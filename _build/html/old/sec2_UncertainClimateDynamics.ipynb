{
 "cells": [
  {
   "cell_type": "markdown",
   "id": "57ff963d",
   "metadata": {},
   "source": [
    "# 2 Uncertain climate dynamics\n",
    "\n",
    "\n",
    "## 2.1  approximation to climate dynamics\n",
    "\n",
    "\n",
    "We use exponentially weighted average of each of response functions as coefficients $\\{\\theta_\\ell\\}_{\\ell=1}^L$ in our computations. \n",
    "The discount rate $\\delta=0.01$ and the number of climate models $L = 144$.\n",
    "\n",
    "The histogram of those coefficients are represented below:"
   ]
  },
  {
   "cell_type": "code",
   "execution_count": 4,
   "id": "732549ed",
   "metadata": {},
   "outputs": [
    {
     "data": {
      "application/vnd.plotly.v1+json": {
       "config": {
        "plotlyServerURL": "https://plot.ly"
       },
       "data": [
        {
         "histnorm": "probability density",
         "legendgroup": "1",
         "marker": {
          "color": "red",
          "line": {
           "color": "grey",
           "width": 1
          }
         },
         "name": "baseline",
         "opacity": 0.5,
         "showlegend": false,
         "type": "histogram",
         "x": [
          2.10137,
          1.65249,
          1.68799,
          1.88301,
          1.68972,
          1.51397,
          2.08753,
          1.82399,
          1.61574,
          2.71033,
          2.13137,
          2.17716,
          2.4287,
          2.1794,
          1.95271,
          2.69249,
          2.35258,
          2.08397,
          2.60347,
          2.04733,
          2.09132,
          2.33294,
          2.09347,
          1.87572,
          2.58633,
          2.25982,
          2.00181,
          2.09218,
          1.64526,
          1.68061,
          1.87478,
          1.68234,
          1.50735,
          2.07841,
          1.81602,
          1.60868,
          2.31139,
          1.81764,
          1.85669,
          2.07121,
          1.8586,
          1.66528,
          2.29617,
          2.00629,
          1.77722,
          2.3965,
          1.88458,
          1.92506,
          2.14748,
          1.92705,
          1.7266,
          2.38072,
          2.08016,
          1.84267,
          2.58788,
          2.03507,
          2.07879,
          2.31897,
          2.08093,
          1.86448,
          2.57084,
          2.24628,
          1.9898199999999997,
          1.70128,
          1.33786,
          1.3666,
          1.5245,
          1.36801,
          1.22572,
          1.69008,
          1.47671,
          1.30811,
          1.51799,
          1.19372,
          1.21937,
          1.36025,
          1.22062,
          1.09366,
          1.50799,
          1.31761,
          1.16718,
          2.80927,
          2.20917,
          2.25663,
          2.51736,
          2.25895,
          2.02399,
          2.79077,
          2.43845,
          2.16005,
          1.40936,
          1.1083,
          1.13211,
          1.26291,
          1.13327,
          1.0154,
          1.40008,
          1.22332,
          1.08365,
          2.55972,
          2.01292,
          2.05617,
          2.29373,
          2.05828,
          1.84419,
          2.54286,
          2.22184,
          1.96817,
          1.93271,
          1.51985,
          1.55251,
          1.73188,
          1.5541,
          1.39245,
          1.91998,
          1.6776,
          1.48606,
          2.58448,
          2.03239,
          2.07606,
          2.31592,
          2.07819,
          1.86203,
          2.56746,
          2.24333,
          1.9872,
          1.93883,
          1.52466,
          1.55742,
          1.73736,
          1.55902,
          1.39686,
          1.92606,
          1.6829,
          1.49076,
          1.83463,
          1.44272,
          1.47372,
          1.64399,
          1.47524,
          1.32179,
          1.82255,
          1.59246,
          1.41064
         ],
         "xbins": {
          "size": 0.15
         }
        }
       ],
       "layout": {
        "height": 500,
        "plot_bgcolor": "white",
        "template": {
         "data": {
          "scatter": [
           {
            "type": "scatter"
           }
          ]
         }
        },
        "title": {
         "text": "Figure 2: Histograms of climate sensitivity parameters."
        },
        "width": 600,
        "xaxis": {
         "linecolor": "black",
         "linewidth": 1,
         "range": [
          0.8,
          3
         ],
         "showgrid": true,
         "showline": true,
         "title": {
          "font": {
           "size": 13
          },
          "text": "Climate Sensitivity"
         }
        },
        "yaxis": {
         "linecolor": "black",
         "linewidth": 1,
         "range": [
          0,
          1.5
         ],
         "showgrid": true,
         "showline": true,
         "title": {
          "text": "Density"
         }
        }
       }
      },
      "text/html": [
       "<div>                            <div id=\"e1321d86-bb7c-4d4a-88ab-3fa3d8866799\" class=\"plotly-graph-div\" style=\"height:500px; width:600px;\"></div>            <script type=\"text/javascript\">                require([\"plotly\"], function(Plotly) {                    window.PLOTLYENV=window.PLOTLYENV || {};                                    if (document.getElementById(\"e1321d86-bb7c-4d4a-88ab-3fa3d8866799\")) {                    Plotly.newPlot(                        \"e1321d86-bb7c-4d4a-88ab-3fa3d8866799\",                        [{\"histnorm\":\"probability density\",\"legendgroup\":\"1\",\"marker\":{\"color\":\"red\",\"line\":{\"color\":\"grey\",\"width\":1}},\"name\":\"baseline\",\"opacity\":0.5,\"showlegend\":false,\"type\":\"histogram\",\"x\":[2.10137,1.65249,1.68799,1.88301,1.68972,1.51397,2.08753,1.82399,1.61574,2.71033,2.13137,2.17716,2.4287,2.1794,1.95271,2.69249,2.35258,2.08397,2.60347,2.04733,2.09132,2.33294,2.09347,1.87572,2.58633,2.25982,2.00181,2.09218,1.64526,1.68061,1.87478,1.68234,1.50735,2.07841,1.81602,1.60868,2.31139,1.81764,1.85669,2.07121,1.8586,1.66528,2.29617,2.00629,1.77722,2.3965,1.88458,1.92506,2.14748,1.92705,1.7266,2.38072,2.08016,1.84267,2.58788,2.03507,2.07879,2.31897,2.08093,1.86448,2.57084,2.24628,1.9898199999999997,1.70128,1.33786,1.3666,1.5245,1.36801,1.22572,1.69008,1.47671,1.30811,1.51799,1.19372,1.21937,1.36025,1.22062,1.09366,1.50799,1.31761,1.16718,2.80927,2.20917,2.25663,2.51736,2.25895,2.02399,2.79077,2.43845,2.16005,1.40936,1.1083,1.13211,1.26291,1.13327,1.0154,1.40008,1.22332,1.08365,2.55972,2.01292,2.05617,2.29373,2.05828,1.84419,2.54286,2.22184,1.96817,1.93271,1.51985,1.55251,1.73188,1.5541,1.39245,1.91998,1.6776,1.48606,2.58448,2.03239,2.07606,2.31592,2.07819,1.86203,2.56746,2.24333,1.9872,1.93883,1.52466,1.55742,1.73736,1.55902,1.39686,1.92606,1.6829,1.49076,1.83463,1.44272,1.47372,1.64399,1.47524,1.32179,1.82255,1.59246,1.41064],\"xbins\":{\"size\":0.15}}],                        {\"height\":500,\"plot_bgcolor\":\"white\",\"template\":{\"data\":{\"scatter\":[{\"type\":\"scatter\"}]}},\"title\":{\"text\":\"Figure 2: Histograms of climate sensitivity parameters.\"},\"width\":600,\"xaxis\":{\"linecolor\":\"black\",\"linewidth\":1,\"range\":[0.8,3],\"showgrid\":true,\"showline\":true,\"title\":{\"font\":{\"size\":13},\"text\":\"Climate Sensitivity\"}},\"yaxis\":{\"linecolor\":\"black\",\"linewidth\":1,\"range\":[0,1.5],\"showgrid\":true,\"showline\":true,\"title\":{\"text\":\"Density\"}}},                        {\"responsive\": true}                    ).then(function(){\n",
       "                            \n",
       "var gd = document.getElementById('e1321d86-bb7c-4d4a-88ab-3fa3d8866799');\n",
       "var x = new MutationObserver(function (mutations, observer) {{\n",
       "        var display = window.getComputedStyle(gd).display;\n",
       "        if (!display || display === 'none') {{\n",
       "            console.log([gd, 'removed!']);\n",
       "            Plotly.purge(gd);\n",
       "            observer.disconnect();\n",
       "        }}\n",
       "}});\n",
       "\n",
       "// Listen for the removal of the full notebook cells\n",
       "var notebookContainer = gd.closest('#notebook-container');\n",
       "if (notebookContainer) {{\n",
       "    x.observe(notebookContainer, {childList: true});\n",
       "}}\n",
       "\n",
       "// Listen for the clearing of the current output cell\n",
       "var outputEl = gd.closest('.output');\n",
       "if (outputEl) {{\n",
       "    x.observe(outputEl, {childList: true});\n",
       "}}\n",
       "\n",
       "                        })                };                });            </script>        </div>"
      ]
     },
     "metadata": {},
     "output_type": "display_data"
    }
   ],
   "source": [
    "from src.plots import plot2\n",
    "plot2()"
   ]
  },
  {
   "cell_type": "markdown",
   "id": "4896ee24",
   "metadata": {},
   "source": [
    "## 2.2 Stochastic climate pulses\n",
    "\n",
    "To explore uncertainty, we introduce explicit stochasticity as a precursor to the study of uncertainty.  We capture this randomness in part by an exogenous forcing processes that evolves as:\n",
    "\n",
    "$$\n",
    "dZ_t = \\mu_z(Z_t) dt + \\sigma_z(Z_t) dW_t\n",
    "$$\n",
    "\n",
    "where\n",
    "$\\{ W_t : t \\ge 0\\}$  a multivariate standard Brownian motion.  We partition the vector Brownian motion into two subvectors as follows:\n",
    "\n",
    "$$\n",
    "dW_t = \\begin{bmatrix} dW_t^y \\cr dW_t^n \\cr dW_t^k \\end{bmatrix}\n",
    "$$\n",
    "\n",
    "where the first component consists of the climate change shocks and the second component contains the technology shocks. \n",
    "Consider an emissions \"pulse\" of the form\n",
    "\n",
    "$$\n",
    "\\left(\\iota_y \\cdot Z_t \\right) {\\mathcal E}_t  \\left( \\theta dt + \\varsigma \\cdot dW_t^y\\right)\n",
    "$$\n",
    "\n",
    "where ${\\mathcal E}_t$ is fossil fuel emissions and $\\iota_y \\cdot Z = \\{ \\iota_y \\cdot Z_t : t\\ge 0\\}$ is a positive process which we normalize to have mean one.\n",
    "The $\\iota_y\\cdot Z$-process captures \"left out\" components of the climate system’s reaction to an emission of ${\\mathcal E}_t$ gigatons into the atmosphere while the $\\varsigma \\cdot dW$ process captures short time scale fluctuations.   \n",
    "We will use a positive Feller square root process for the $\\iota_y\\cdot Z$ process in our analysis.\n",
    "\n",
    "\n",
    "\n",
    "\n",
    "Within this framework, we impose the \"Matthews' approximation\" by making the consequence of the pulse permanent:\n",
    "\n",
    "$$\n",
    " dY_t = \\mu_y(Z_t, {\\mathcal E}_t) dt + \\sigma_y(Z_t, {\\mathcal E}_t) dW_t^y\n",
    "$$\n",
    "\n",
    "where\n",
    "\n",
    "$$\n",
    "\\begin{align*}\n",
    "\\mu_y(z, e) & =  e \\left(\\iota_y \\cdot z \\right) \\theta   \\cr\n",
    "\\sigma_y(z, e) & = e \\left(\\iota_y \\cdot z \\right) \\varsigma'\n",
    "\\end{align*}\n",
    "$$\n",
    "\n",
    "Throughout, we will use uppercase letters to denote random vector or stochastic processes and lower case letters to denote possible realizations.\n",
    "Armed with this \"Matthews' approximation\", we collapse the climate change uncertainty into the cross-model empirical distribution reported in the figure above. We will eventually introduce uncertainty about $\\theta$.\n",
    "\n",
    "\n",
    "\n",
    "\n",
    "> **Remark 1**\n",
    ">\n",
    "> For a more general starting point, let $Y_t$ be a vector used to represent temperature dynamics where the temperature\n",
    "impact on damages is the first component of  $Y_t$.\n",
    "This state vector evolves according to:\n",
    ">\n",
    ">$$dY_t = \\Lambda Y_t dt +   {\\mathcal E}_t  \\left(\\iota_y \\cdot Z_t \\right)  \\left(\\Theta dt + \\Phi dW_t^y \\right)$$\n",
    ">\n",
    "> where $\\Lambda$ is a square matrix and $\\Theta$ is a column vector.\n",
    "> Given an initial condition $Y_0$, the solution for $Y_t$ satisfies:\n",
    "> $$Y_t = \\exp \\left( t \\Lambda \\right) Y_0 + \\int_0^t  \\exp\\left[ (t-u) \\Lambda \\right] \\left(\\iota_y \\cdot Z_u \\right) {\\mathcal E}_u \\left(\\Theta du + \\Phi dW_u^y \\right)$$\n",
    ">\n",
    "> Thus under this specification, the expected future response of $Y$  to a pulse at date zero is:\n",
    "> \n",
    "> $$\\exp \\left( u \\Lambda \\right) \\Theta$$\n",
    ">\n",
    "> It is the first component of this function that determines the response dynamics.  This generalization allows for multiple exponentials to approximate the pulse responses.  Our introduction of a multiple exponential approximation adapts for example, \\cite{Joosetal:2013} and \\cite{Pierrehumbert:2014}.\\footnote{See equation (5) of \\cite{Joosetal:2013} and  equations (1)-(3) of \\cite{Pierrehumbert:2014}.   \\citeauthor{Pierrehumbert:2014} puts the change in radiative forcing equal to a constant times the logarithm of the ratio of atmospheric $CO_2$ at date $t$ to atmospheric $CO_2$ at baseline date zero. His  Figures 1 and 2 illustrate how an approximation of the Earth System dynamics by three exponentials plus a constant tracks a radiative forcing induced by a pulse into the atmosphere at a baseline date from the atmosphere works quite well with half lives of approximately six, sixty five, and four hundred and fifty years.}\n",
    ">\n",
    ">As an example, we capture the initial rise in the emission responses by the following two-dimensional specification\n",
    ">$$\\begin{align*} dY_t^1& =  Y_t^2 dt \\cr  dY_t^2 & = - \\lambda Y_t^2 dt + \\lambda  \\theta {\\mathcal E}_t dt \\end{align*}$$\n",
    ">\n",
    "> which implies the response to a pulse is:\n",
    ">\n",
    ">$$\\theta \\left[ 1 - \\exp( - \\lambda t) \\right] {\\mathcal E}_0$$\n",
    "> \n",
    "> A high value of $\\lambda$ implies more rapid convergence to the limiting response $\\theta  {\\mathcal E}_0$.  This  approximation is intended as a simple representation of the dynamics where the second state variable can be thought of as an exponentially weighted average of current and past emissions.\\footnote{In independent work, \\cite{DietzVenmans:2019} and \\cite{BarnettBrockHansen:2020} have used such simplified approximations within an explicit economic optimization framework.  The former contribution includes the initial rapid upswing in the impulse response functions.  The latter contribution  abstracts from this.   \\citeauthor{BarnettBrockHansen:2020} instead explore ways to confront uncertainty, broadly-conceived, while using the Matthews approximation.}\n",
    "\n",
    "> **Remark 2**\n",
    ">\n",
    "> The  approximation in \\cite{Geoffroy:2013} includes the logarithm of carbon in the atmosphere as argued for by \\cite{Arrhenius:1896} which is not directly reflected in the linear approximation to the temperature dynamics that we use.  The pulse experiments from \\cite{Joosetal:2013} show a more than proportional change in atmospheric carbon when the pulse size is changed.  It turns out that this is enough to approximately offset the logarithmic \\citeauthor{Arrhenius:1896} adjustment so that the long-term temperature response remains approximately proportional for small pulse sizes.  See also \\cite{Pierrehumbert:2014} who discusses the approximate offsetting impacts of nonlinearity in temperature and climate dynamics."
   ]
  },
  {
   "cell_type": "markdown",
   "id": "4bab5d17",
   "metadata": {},
   "source": [
    "**Next section:**\n",
    "\n",
    "[Section 3: Uncertain damage](sec3_UncertainDamage.ipynb)"
   ]
  }
 ],
 "metadata": {
  "interpreter": {
   "hash": "d0d76abfdbb0076f7950f4feef2921e737fada20a629e84883a54ca9388c8f4e"
  },
  "kernelspec": {
   "display_name": "Python 3 (ipykernel)",
   "language": "python",
   "name": "python3"
  },
  "language_info": {
   "codemirror_mode": {
    "name": "ipython",
    "version": 3
   },
   "file_extension": ".py",
   "mimetype": "text/x-python",
   "name": "python",
   "nbconvert_exporter": "python",
   "pygments_lexer": "ipython3",
   "version": "3.8.12"
  }
 },
 "nbformat": 4,
 "nbformat_minor": 5
}
