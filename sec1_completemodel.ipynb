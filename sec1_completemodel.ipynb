{
 "cells": [
  {
   "cell_type": "markdown",
   "metadata": {},
   "source": [
    "# 1 Complete Model and HJB "
   ]
  },
  {
   "cell_type": "markdown",
   "metadata": {},
   "source": [
    "**State** \n",
    "\n",
    "- The stock of productive capital $K_t$ :  $$dK_t = K_t \\left( - \\mu_k    + \\frac {I_{t}^k}{K_t}  -{\\frac { \\kappa} 2} \\left( {\\frac {I_{t} ^k} {K_t}} \\right)^2 \\right) dt + K_t \\sigma_k dW_t$$\n",
    "-  Temperature anomaly $Y_t$: $$dY_t = {\\mathcal E}_t [{\\bar \\theta} dt + \\varsigma dW_t]$$\n",
    "- the stock of R\\&D-induced knowledge capital $R_t$: \n",
    "$$d R_t = - \\zeta R_t dt + \\psi_0 \\left(I_t^r\\right)^{\\psi_1} \\left(R_t\\right)^{1 - \\psi_1} dt + R_t \\sigma_r dW_t $$\n",
    "- The damage evolution $N_t$.\n",
    " \n",
    "$$\\begin{align*} \n",
    " d \\log N_t = \n",
    "    \\begin{cases}\n",
    "    \\left( \\lambda_1 + \\lambda_2 Y_t \\right) \\mathcal{E}_t \\left[ \\bar{\\theta}\\, dt + \\varsigma\\, dW_t \\right] + \\dfrac{ \\lambda_2 |\\varsigma|^2 \\left( \\mathcal{E}_t \\right)^2 }{2}\\, dt, & \\text{if } t \\leq \\tau \\\\[2ex]\n",
    "    \\left[ \\lambda_1 + \\lambda_2 \\widehat{Y}_t + \\lambda_3(\\ell)\\left( \\widehat{Y}_t - \\bar{y} \\right) \\right] \\mathcal{E}_t \\left[ \\bar{\\theta}\\, dt + \\varsigma\\, dW_t \\right] \\\\\n",
    "    \\quad + \\dfrac{ \\left[ \\lambda_2 + \\lambda_3(\\ell) \\right] |\\varsigma|^2 \\left( \\mathcal{E}_t \\right)^2 }{2}\\, dt, & \\text{if } t > \\tau\n",
    "    \\end{cases}\n",
    "\\end{align*}$$\n",
    " \n",
    "$k_t$ is a potential realization of $K_t$, and $\\hat{k_t}$ is $\\log k_t$. Similarly, $n_t$ is a potential realization of $N_t$, and $\\hat{n_t}$ is $\\log n_t$; $r_t$ is a potential realization of $R_t$, and $\\hat{r_t}$ is $\\log r_t$.\n",
    "\n",
    "**Controls**\n",
    "\n",
    "- $i^k$ is a potential value for $I_t^k$\n",
    "- $i^r$ is a potential value for $I_t^r$\n",
    "- $e$ is a potential value for $\\mathcal{E}_t$\n",
    "\n",
    "\n",
    "**Distortion**\n",
    "\n",
    "- $h^k$ is the distortion to capital accumulation.\n",
    "- $h^y$ is the distortion to temperature anomaly accumulation.\n",
    "- $h^r$ is the distortion to R\\&D accumulation.\n",
    "- $g$ is the misspecification to technology jump.\n",
    "- $f$ is the misspecification to damage jump.\n",
    "\n",
    "For our analysis here, rather than a constant value of $\\xi$ for all uncertainty channels, we use a set of values $\\{\\xi^k, \\xi^c, \\xi^r, \\xi^d, \\xi^g\\}$, one for each uncertainty channel so that we can carry out our uncertainty decomposition."
   ]
  },
  {
   "cell_type": "markdown",
   "metadata": {},
   "source": [
    "## 1.1 HJB equations"
   ]
  },
  {
   "cell_type": "markdown",
   "metadata": {},
   "source": [
    "### 1.1.1 Post-tech-post-damage HJB\n",
    "After technology jump occurs, temperature and damage remains constant.  Then the optimal choice of emission is 0.  In this case, the state space, control space and distortion space become\n",
    "\n",
    "$$\\begin{align*}\n",
    "    X &= \\{ \\hat{k} \\}\\\\\n",
    "    \\Phi &= \\{  i^k \\}\\\\\n",
    "    \\Gamma &= \\{h^k\\}\n",
    "\\end{align*}$$\n",
    "\n",
    "Compute $V^{\\ell,L}(x)$ for $\\ell = 1, ..., L-1$ conditioned on both a technology jump and a damage jump occurring,by solving HJB equation  \n",
    "\n",
    "$$\n",
    "\\begin{align*}\n",
    "0= & \\max_{i^k}\\min_{{h^k}} \\left(\\frac{\\delta}{1-\\rho}\\right)\\left[\\left(\\frac{\\alpha k -i^k}{\\exp (\\hat{V}^{\\ell,L})} \\right)^{1-\\rho}-1\\right] \\\\\n",
    "& +\\frac{\\partial \\hat{V}^{\\ell,L}}{\\partial \\hat{k}}\\left[\\mu_k+\\frac{i^k}{k}-\\frac{\\kappa}{2} \\left(\\frac{i^k}{k}\\right)^2-\\frac{\\left|\\sigma_k\\right|^2}{2}+\\sigma_k {h^k}\\right]+\\frac{\\partial^2 \\hat{V}^{\\ell,L}}{\\partial \\hat{k} \\, \\partial \\hat{k}'}\\frac{\\left|\\sigma_k\\right|^2}{2} \\\\\n",
    "& +\\xi^k \\frac{\\left|{h^k}\\right|^2}{2}\n",
    "\\end{align*}\n",
    "$$\n",
    "\n",
    " "
   ]
  },
  {
   "cell_type": "markdown",
   "metadata": {},
   "source": [
    "### 1.1.2 Post Technology and Pre Damage HJB\n",
    "\n",
    "Compute the value function $V^L(x)$ assuming that only a technology jump has been realized. This value function incorporates the possibility of jumping to one of $L-1$ possible damage states, however, because the temperature anomaly remains constant at the point where any incremental curvature has no impact on the damages this damage curve realization is inconsequential. Therefore, we can ignore the damage curve intensities and the associated continuation values for this computation. \n",
    "\n",
    "In this case, the state space, control space and distortion space become\n",
    "\n",
    "$$\\begin{align*}\n",
    "    X &= \\{ \\hat{k} \\}\\\\\n",
    "    \\Phi &= \\{  i^k \\}\\\\\n",
    "    \\Gamma &= \\{h^k\\}\n",
    "\\end{align*}$$\n",
    "\n",
    "We have HJB for post technology and post damage jump as follows\n",
    "\n",
    "$$\n",
    "\\begin{align*}\n",
    "0= & \\max_{i^k}\\min_{{h^k}} \\left(\\frac{\\delta}{1-\\rho}\\right)\\left[\\left(\\frac{\\alpha k -i^k}{\\exp (\\hat{V}^L)} \\right)^{1-\\rho}-1\\right] \\\\\n",
    "& +\\frac{\\partial \\hat{V}^{L}}{\\partial \\hat{k}}\\left[\\mu_k+\\frac{i^k}{k}-\\frac{\\kappa}{2} \\left(\\frac{i^k}{k}\\right)^2-\\frac{\\left|\\sigma_k\\right|^2}{2}+\\sigma_k {h^k}\\right]+\\frac{\\partial^2 \\hat{V}^{ L}}{\\partial \\hat{k} \\, \\partial \\hat{k}'} \\frac{\\left|\\sigma_k\\right|^2}{2} \\\\\n",
    "& +\\xi^k \\frac{\\left|{h^k}\\right|^2}{2}\n",
    "\\end{align*}\n",
    "$$\n",
    "\n"
   ]
  },
  {
   "cell_type": "markdown",
   "metadata": {},
   "source": [
    " \n",
    " \n",
    "### 1.1.3 Pre Technology and Post Damage HJB\n",
    "Compute the values functions $V^{\\ell}(x)$ assuming that only a damage jump has been realized for $\\ell = 1,..., L-1.$  These values functions depend on the entire state vector $X$ and have one possible jump state which is the technology discovery with intensity ${\\mathcal J}^L.$   The continuation value for the jump is $V^{\\ell,L}(x)$ viewed as a function of $x$ for $\\ell=1,...,L-1.$\n",
    "\n",
    "$$\n",
    "\\begin{align*}\n",
    "    X &= \\{ \\hat{k}, y, \\hat{r}, \\hat{n} \\}\\\\\n",
    "    \\Phi &= \\{  i^k, i^r, e \\}\\\\\n",
    "    \\Gamma &= \\{{h^k}, {h^y}, {h^r}, g\\}\n",
    "\\end{align*}\n",
    "$$\n",
    "\n",
    "After plugging this simplification into our HJB equation and removing common terms,\n",
    "we are left with the following simplified HJB to solve:\n",
    "\n",
    "$$\n",
    "\\begin{align*}\n",
    "& 0=\\max_{i^k, i^r, e} \\min_{{h^k}, {h^y}, {h^r}, g} \\left(\\frac{\\delta}{1-\\rho}\\right)\\left[\\left(\\frac{\\alpha k -i^k-i^r-\\alpha k \\phi_0(z)\\left[1-\\frac{e}{\\beta_t \\alpha k }\\right]^{\\phi_1}}{\\exp (\\hat{V}^\\ell)} \\right)^{1-\\rho}-1\\right] \\\\\n",
    "& +\\frac{\\partial \\hat{V}^\\ell}{\\partial \\hat{k}}\\left[\\mu_k+\\frac{i^k}{k}-\\frac{\\kappa}{2} \\left(\\frac{i^k}{k}\\right)^2-\\frac{\\left|\\sigma_k\\right|^2}{2}+\\sigma_k {h^k}\\right]+\\frac{\\partial^2 \\hat{V}^\\ell }{\\partial  \\hat{k} \\partial  \\hat{k}'} \\frac{\\left|\\sigma_k\\right|^2}{2} \\\\\n",
    "& +\\frac{\\partial \\hat{V}^\\ell}{\\partial \\hat{y}}\\left(  \\bar{\\theta}+\\varsigma {h^y}\\right) e+\\frac{\\partial^2 \\hat{V}^\\ell}{\\partial y \\partial y'} \\frac{|\\varsigma|^2}{2} e^2 \\\\\n",
    "& -\\left(\\left[\\lambda_1+\\lambda_2 y+\\lambda_3(y-\\bar{y})\\right]\\left( \\bar{\\theta}+\\varsigma {h^y}\\right) e+\\left(\\lambda_2+\\lambda_3\\right) \\frac{|\\varsigma|^2}{2} e^2\\right) \\\\\n",
    "& +\\frac{\\partial \\hat{V}^\\ell}{\\partial \\hat{r} }\\left(-\\zeta+\\psi_0\\left(i^r\\right)^{\\psi_1} \\exp \\left(-\\psi_1 \\log r\\right)-\\frac{\\left|\\sigma_r\\right|^2}{2}+\\sigma_r {h^r}\\right)+\\frac{\\partial^2 \\hat{V}^\\ell}{\\partial \\hat{r} \\partial \\hat{r}'}\\frac{\\left|\\sigma_r\\right|^2}{2} \\\\\n",
    "& +\\xi^g \\mathcal{J}_g (1-g +g  \\log g )+\\mathcal{J}_g  g \\left(\\hat{V}^{\\ell,L}-\\hat{V}^\\ell \\right) \\\\\n",
    "& +\\xi^k \\frac{\\left|{h^k}\\right|^2}{2}+\\xi^c \\frac{\\left|{h^y}\\right|^2}{2}+\\xi^r \\frac{\\left|{h^r}\\right|^2}{2}  \\\\\n",
    "&\n",
    "\\end{align*}\n",
    "$$ \n"
   ]
  },
  {
   "cell_type": "markdown",
   "metadata": {},
   "source": [
    "### 1.1.4 Pre-tech-pre-damage HJB\n",
    "Compute $V(x)$ prior to any jumps occurring. This value function has two possible types of jumps, either a technology jump or a damage curvature jump. The continuation value for the technology jump is $V^L(x)$, and the potential continuation values for the damage curvature jump are the set of $V^{\\ell}(x)$ for $\\ell = 1,..., L-1.$\n",
    "\n",
    "$$\\begin{align*}\n",
    "    X &= \\{ k, y,r,n \\}\\\\\n",
    "    \\Phi &= \\{  i^k, i^r, e \\}\\\\\n",
    "    \\Gamma &= \\{{h^k}, {h^y}, {h^r}, g, f\\}\n",
    "\\end{align*}$$\n",
    "\n",
    "After plugging this simplification into our HJB equation and removing common terms,\n",
    "\n",
    "$$\\begin{align*}\n",
    "0  = & \\max_{i^k, i^r, e} \\, \\min_{h, g^{\\ell}} \\, \\frac{\\delta}{1-\\rho} \\left(\\left(\\frac{\\alpha k-i^{k}-i^{r}-\\alpha k \\phi_0 \\left(1-\\frac{e}{\\beta \\alpha k}\\right)^{\\phi_1}}{\\exp(\\hat{V})} \\right)^{1-\\rho}-1 \\right) \\\\\n",
    "& + \\frac{\\partial \\hat{V}}{\\partial \\hat{k}} \\left( -\\mu_{k}+ \\frac{i^{k}}{k}-\\frac{\\kappa}{2}\\left(\\frac{I^{k}}{k}\\right)^{2}-\\frac{|\\sigma_{k}|^{2}}{2} + \\sigma_k h^k \\right) +  \\frac{\\partial^2 \\hat{V}}{\\partial \\hat{k} \\, \\partial \\hat{k}'}\\frac{|\\sigma_{k}|^{2}}{2} \\\\\n",
    "& + \\frac{\\partial \\hat{V}}{\\partial y} e \\left( \\bar{\\theta}+\\varsigma h^y \\right) + \\frac{\\partial^2 \\hat{V}}{\\partial y \\, \\partial y'}\\frac{|\\varsigma|^{2}}{2}e^{2}  - \\left( (\\lambda_{1}+\\lambda_{2}y) e \\left( \\bar{\\theta}+\\varsigma h^y \\right) +\\lambda_{2}\\frac{|\\varsigma|^{2}}{2}e^{2} \\right) \\\\\n",
    "& + \\frac{\\partial \\hat{V}}{\\partial \\hat{r}} \\left( -\\zeta + \\psi_{0}(i^{r})^{\\psi_{1}}\\exp( -\\psi_{1} \\hat{r})-\\frac{|\\sigma_{r}|^{2}}{2}+\\sigma_{r} h^r \\right) +\\frac{\\partial^2 \\hat{V}}{\\partial \\hat{r} \\, \\partial \\hat{r}'}\\frac{|\\sigma_{r}|^{2}}{2} \\\\\n",
    "& +\\xi^g \\mathcal{J}_g (1-g +g  \\log g )+\\mathcal{J}_g  \\cdot g  \\cdot \\left(\\hat{V}^L -\\hat{V}\\right) \\\\\n",
    "&+\\xi^d \\mathcal{J}_n  \\sum_{\\ell} \\pi^\\ell  (1-f^\\ell +f^\\ell  \\log f^\\ell ) \\\\\n",
    "&+\\mathcal{J}_n \\sum_{\\ell  } \\pi^\\ell  f^\\ell \\cdot \\left(\\hat{V}^\\ell-\\hat{V}\\right) \\\\\n",
    "&+\\xi^k \\frac{\\left|{h^k}\\right|^2}{2}+\\xi^c \\frac{\\left|{h^y}\\right|^2}{2}+\\xi^r \\frac{\\left|{h^r}\\right|^2}{2}\n",
    "\\end{align*}$$"
   ]
  },
  {
   "cell_type": "markdown",
   "metadata": {},
   "source": [
    "To solve HJB equations, we first run below code in [two-capital-climate-change/master\n",
    "/master_zero_shock.sh](https://github.com/korito1416/two-capital-climate-change/blob/main/master/master_zero_shock.sh).\n",
    "Make sure you give right command-line arguments."
   ]
  },
  {
   "cell_type": "markdown",
   "metadata": {},
   "source": [
    "We solve four HJB equations sequentially. First, solve 20 post-tech-post-damage HJB for each $\\gamma^3$. Then we solve one post-tech-pre-damage and 20 pre-tech-post-damage HJB conditional on post-tech-post-damage Value function. Finally we solve pre-tech-pre-damage HJB given post-tech-pre-damage and pre-tech-post-damage value functions. Below bash code shows this logics. "
   ]
  },
  {
   "cell_type": "markdown",
   "metadata": {},
   "source": [
    "```bash\n",
    "bash ./conduction/Postdamage.sh  \n",
    "sleep 1200\n",
    "bash ./conduction/Postdamage_sub.sh \n",
    "sleep 1200\n",
    "bash ./conduction/Predamage.sh  "
   ]
  },
  {
   "cell_type": "markdown",
   "metadata": {},
   "source": [
    "In [Postdamage.sh](https://github.com/korito1416/two-capital-climate-change/blob/641046304faed6e6c5bace7bc0f9af45c8196fd9/python/Postdamage.py), we solve post_damage_post_tech and post-damage-pre-tech value functions and controls.\n",
    "[Post_damage_post_tech](https://github.com/korito1416/two-capital-climate-change/blob/641046304faed6e6c5bace7bc0f9af45c8196fd9/python/Postdamage.py#L310) section solves post-damage-post-tech HJB. [Post-damage-pre-tech](https://github.com/korito1416/two-capital-climate-change/blob/641046304faed6e6c5bace7bc0f9af45c8196fd9/python/Postdamage.py#L412) section solves Post-damage-pre-tech HJB. In order to make sure our results are stable, we first randomly pick initial values and then use the first result to resolve the HJB. \n",
    "\n",
    "[Postdamage_sub.sh ](https://github.com/korito1416/two-capital-climate-change/blob/641046304faed6e6c5bace7bc0f9af45c8196fd9/conduction/Postdamage_sub.sh) is aimed at further improving computational efficiency. The solutions obtained from post_damage.py serve as baseline solutions for Postdamage_sub.py to resolve the HJB equations. \n",
    " \n",
    "\n",
    "In [Predamage.sh](https://github.com/korito1416/two-capital-climate-change/blob/641046304faed6e6c5bace7bc0f9af45c8196fd9/python/Predamage.py), we solve pre_damage_post_tech and pre-damage-pre-tech value functions and controls.\n",
    "[Pre_damage_post_tech](https://github.com/korito1416/two-capital-climate-change/blob/641046304faed6e6c5bace7bc0f9af45c8196fd9/python/Predamage.py#L249) section solves pre-damage-post-tech HJB. [Pre-damage-pre-tech](https://github.com/korito1416/two-capital-climate-change/blob/641046304faed6e6c5bace7bc0f9af45c8196fd9/python/Predamage.py#L312) section solves Pre-damage-pre-tech HJB.  "
   ]
  },
  {
   "cell_type": "markdown",
   "metadata": {},
   "source": [
    "## 1.2 Computation method\n",
    "\n",
    "In this section, we explain how did we solve HJB equation. "
   ]
  },
  {
   "cell_type": "markdown",
   "metadata": {},
   "source": [
    "### 1.2.1 Policy Iteration\n",
    "\n",
    "For simplicity, I denote the control set and distortion set: \n",
    "$$\\begin{align*}\n",
    "   \\Phi^n &= \\{ i_k^{n}, i_j^{n}, \\mathcal{E}^{n} \\} \\\\\n",
    "   \\Gamma^n &=\\{ h_k^{n}, h_y^{n}, h_j^{n}, g^{n}, f_\\ell^{n} \\} \n",
    "\\end{align*}$$"
   ]
  },
  {
   "cell_type": "markdown",
   "metadata": {},
   "source": [
    "### Algorithm: Solving the HJB Equation via Policy Iteration  \n",
    "\n",
    "$$\n",
    "\\begin{align*}\n",
    "\\textbf{Input:} &\\ \\text{Initial guess for value function } V^0, \\epsilon = 10^{-7} \\\\ \n",
    "&\\text{Initialize } n = 0, V^n = V^0 \\\\\n",
    "\\textbf{while} &\\ |V^{n+1} - V^n| \\geq \\epsilon \\text{ do:} \\\\\n",
    "&\\ \\quad \\text{Step 1: Solve for optimal actions } \\Phi^{n+1} \\text{ by maximization} \\\\\n",
    "&\\ \\quad \\quad \\text{Cobweb algorithm \\eqref{eq:cobweb}  is applied here:} \\\\\n",
    "&\\ \\quad \\quad \\Phi^{n+1} = \\Phi(V^n, \\Phi^{n}, \\Gamma^{n}) \\\\\n",
    "&\\ \\quad \\text{Step 2: Solve for optimal probability distortions } \\Gamma^{n+1} \\text{ by minization}\\\\\n",
    "&\\ \\quad \\quad \\Gamma^{n+1} = \\Gamma(V^n, \\Phi^{n+1}, \\Gamma^{n}) \\\\\n",
    "&\\ \\quad \\text{Step 3: Update value function } V^{n+1} \\text{ by minimization}\\\\\n",
    "&\\ \\quad \\quad V^{n+1} = V(V^n, \\Phi^{n+1}, \\Gamma^{n+1}) \\\\\n",
    "&\\ \\quad \\text{Step 4: Check for convergence} \\\\\n",
    "&\\ \\quad \\quad\\text{If } |V^{n+1} - V^n| < \\epsilon \\text{ then stop, otherwise continue.} \\\\\n",
    "\\textbf{Return:} &\\ V^* \\\\\n",
    "\\end{align*}$$\n",
    "\n",
    "Below functions implement above algorithm in solving four HJB equations.\n",
    "\n",
    "- [hjb_post_tech](\n",
    "https://github.com/korito1416/two-capital-climate-change/blob/641046304faed6e6c5bace7bc0f9af45c8196fd9/python/src/PostSolver_new.py#L150C5-L150C18)\n",
    " function in two-capital-climate-change/python/src/PostSolver_new.py\n",
    "\n",
    " - [hjb_post_tech](https://github.com/korito1416/two-capital-climate-change/blob/641046304faed6e6c5bace7bc0f9af45c8196fd9/python/src/PostSolver_new_rho1.py#L195C5-L195C18)\n",
    " function in two-capital-climate-change/python/src/PostSolver_new_rho1.py\n",
    "\n",
    "\n",
    "- [hjb_pre_tech](https://github.com/korito1416/two-capital-climate-change/blob/641046304faed6e6c5bace7bc0f9af45c8196fd9/python/src/PreSolver_CRS2_new.py#L329)\n",
    " function in two-capital-climate-change/python/src/PreSolver_CRS2_new.py\n",
    "\n",
    "\n",
    "- [hjb_pre_tech](https://github.com/korito1416/two-capital-climate-change/blob/641046304faed6e6c5bace7bc0f9af45c8196fd9/python/src/PreSolver_CRS2_new_rho1.py#L325)\n",
    " function in two-capital-climate-change/python/src/PreSolver_CRS2_new_rho1.py\n",
    "\n",
    " ''hjb_post_tech'' function could solve post-tech-post-damage HJB and post-tech-pre-damage HJB because two equations have the same state variables and controls. Similarly, ''hjb_pre_tech'' function could solve pre-tech-post-damage HJB and pre-tech-pre-damage HJB.\n",
    "\n",
    " ### 1.2.2 Updating Rules $\\Phi^{n+1} = \\Phi(V^n,\\Phi^{n} ,\\Gamma^{n})$ \n",
    "\n",
    "In solving  HJB equations, we often encounter complex, highly non-linear equations that do not admit analytical solutions. To address this challenge, iterative numerical methods like the **Cobweb algorithm** are employed to approximate the optimal control variables. \n",
    "\n",
    "The Cobweb algorithm works by:\n",
    "\n",
    "- Starting with an initial guess for the control variable.\n",
    "- Computing the corresponding values in the equations.\n",
    "- Updating the control variable based on the discrepancies observed.\n",
    "- Repeating the process until the control variable converges to a stable value.\n",
    "  \n",
    "For example, we update for $i_k$ for pre damage pre technology HJB,  using the first-order condition:\n",
    "\n",
    "$$\\delta \\left( \\frac{\\alpha k - i_k - i_j - \\alpha k \\phi_0(z) \\left[1 - \\frac{\\mathcal{E}}{\\beta_t \\alpha k}\\right]^{\\phi_1}}{\\exp(v)} \\right)^{-\\rho} \\frac{1}{\\exp(v)} = \\frac{\\partial v}{\\partial \\log k} \\left(1 - \\kappa i_k\\right)$$\n",
    "\n",
    "Since this equation is highly non-linear and does not admit an analytical solution, we use the Cobweb algorithm to iteratively update the actions. For each iteration $n$, the update is:\n",
    "\n",
    "$$\\begin{align} \\label{eq:cobweb}\n",
    "\\hat{i}_k^{t+1} = \\frac{1}{\\kappa}-\\frac{1}{\\kappa}\\delta \\left( \\frac{\\alpha k - i_k^t - i_j - \\alpha k \\phi_0(z) \\left[1 - \\frac{\\mathcal{E}}{\\beta_t \\alpha k}\\right]^{\\phi_1}}{\\exp(v)} \\right)^{-\\rho} \\frac{1}{\\exp(v)} \\frac{1}{\\frac{\\partial v}{\\partial \\log k}}  \\end{align} $$\n",
    "\n",
    "The updated action $i_k^{n+1}$ is computed using a relaxation parameter $\\zeta$:\n",
    "\n",
    "$$i_k^{n+1} = \\zeta i_k^n + (1 - \\zeta) \\hat{i}_k^{n+1}$$\n",
    "\n",
    " "
   ]
  },
  {
   "cell_type": "markdown",
   "metadata": {},
   "source": []
  },
  {
   "cell_type": "markdown",
   "metadata": {},
   "source": [
    " \n",
    "### 1.2.3 Updating Rules $\\Gamma^{n+1} = \\Gamma(V^n,\\Phi^{n+1},\\Gamma^{n} )$\n",
    "\n",
    "\n",
    "Every distortion has analytical solution. For example,  we solve for $h_k$, and the same logic applies to $h_y, h_j, g, f_l$. The first-order condition for $h_k$ is:\n",
    "\n",
    "$$\\frac{\\partial v}{\\partial \\log k} \\sigma_k = - \\xi_k h_k$$\n",
    "\n",
    "Given the value function $v^n$, we update the distortion $h_k^{n+1}$ as follows:\n",
    "\n",
    "$$h_k^{n+1} = - \\frac{1}{\\xi_k} \\frac{\\partial v^n}{\\partial \\log k} \\sigma_k$$\n"
   ]
  },
  {
   "cell_type": "markdown",
   "metadata": {},
   "source": [
    "### 1.2.4 False Transcient Method\n",
    "To mitigate the inherent instability of the non-linear HJB, we add a false transcient (time) dimension and solve it until convergence. And the new HJB equation is as \n",
    "\n",
    "$$\\begin{align*}  \n",
    "0 \\hspace{0.2cm} = \\hspace{0.2cm} & \\delta U(x) - \\delta V(x,t) + \n",
    "\\mu(x) \\frac{\\partial V}{\\partial x} (x,t) \\\\\n",
    "& + \\frac{1}{2} \\, \\mathrm{trace}\\left[\\sigma(x)^\\top \\frac{\\partial^2 V}{\\partial x \\partial x^\\top}(x,t) \\sigma(x) \\right] \\\\\n",
    "& + \\sum_{\\ell = 1}^L \\mathcal{J}^\\ell(x) \\left[ V^\\ell(x,t) - V(x,t) \\right]\n",
    "\\end{align*}$$\n",
    "\n",
    " "
   ]
  },
  {
   "cell_type": "markdown",
   "metadata": {},
   "source": [
    "### 1.2.5 Finite Difference Schemes\n",
    "\n",
    "- Central Difference (Interior Points):\n",
    "\n",
    "$$\\begin{align*}\n",
    "        (\\frac{\\partial f}{\\partial x})_i    = \\frac{f_{i+1} - f_{i-1}}{2 \\Delta x} \\\\\n",
    "        (\\frac{\\partial^2 f}{\\partial x^2})_i =\\frac{f_{i+1} + f_{i-1} - 2f_i}{\\Delta x^2}\n",
    "    \\end{align*} $$\n",
    "    \n",
    "- Forward Difference (First Boundary Point):\n",
    "\n",
    "$$\\begin{align*}\n",
    "        (\\frac{\\partial f}{\\partial x})_0 =\\frac{f_{1} - f_{0}}{\\Delta x} \\\\\n",
    "        (\\frac{\\partial^2 f}{\\partial x^2})_0 =\\frac{f_{2} + f_{0} - 2f_{1}}{\\Delta x^2}\n",
    "    \\end{align*}$$    \n",
    "\n",
    "- Backward Difference (Last Boundary Point):\n",
    "\n",
    "$$\\begin{align*}\n",
    "   (\\frac{\\partial f}{\\partial x})_{N-1}  =\\frac{f_{N-1} - f_{N-2}}{\\Delta x} \\\\\n",
    "   (\\frac{\\partial^2 f}{\\partial x^2})_{N-1}=\\frac{f_{N-1} + f_{N-3} - 2f_{N-2}}{\\Delta x^2}\n",
    "\\end{align*}$$\n"
   ]
  },
  {
   "cell_type": "markdown",
   "metadata": {},
   "source": [
    "Below two functions are two finite difference functions we used in solving HJB equations.\n",
    "\n",
    "- [finiteDiff_3D](\n",
    "https://github.com/korito1416/two-capital-climate-change/blob/641046304faed6e6c5bace7bc0f9af45c8196fd9/python/src/Utility.py#L211)\n",
    " function in two-capital-climate-change/python/src/Utility.py \n",
    "\n",
    "- [finiteDiff](https://github.com/korito1416/two-capital-climate-change/blob/641046304faed6e6c5bace7bc0f9af45c8196fd9/python/src/supportfunctions.py#L12) in two-capital-climate-change/python/src/supportfunctions.py "
   ]
  },
  {
   "cell_type": "markdown",
   "metadata": {},
   "source": []
  }
 ],
 "metadata": {
  "kernelspec": {
   "display_name": "base",
   "language": "python",
   "name": "python3"
  },
  "language_info": {
   "codemirror_mode": {
    "name": "ipython",
    "version": 3
   },
   "file_extension": ".py",
   "mimetype": "text/x-python",
   "name": "python",
   "nbconvert_exporter": "python",
   "pygments_lexer": "ipython3",
   "version": "3.12.4"
  },
  "orig_nbformat": 4
 },
 "nbformat": 4,
 "nbformat_minor": 2
}
