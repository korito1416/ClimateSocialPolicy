{
 "cells": [
  {
   "cell_type": "markdown",
   "metadata": {},
   "source": [
    "# 4  Value Decomposition"
   ]
  },
  {
   "cell_type": "markdown",
   "metadata": {},
   "source": [
    "Value decomposition is \n",
    "$$\\frac {\\partial V}{\\partial x}(X_0) \\cdot M_0  =   {\\mathbb E} \\left[ \\int_0^\\infty  Dis_t \\left(M_t \\cdot Scf_t \\right)  \\mid X_0, M_0 \\right]$$"
   ]
  },
  {
   "cell_type": "markdown",
   "metadata": {},
   "source": [
    "where\n",
    "$$Dis_t = \\exp\\left( - \\int_0^t \\left[\\delta +  \\sum_{\\ell=1}^{L}  {\\mathcal J}^{\\ell}(X_u)   \\right]du \\right)$$"
   ]
  },
  {
   "cell_type": "markdown",
   "metadata": {},
   "source": [
    "$$\\begin{align*}  \n",
    "Scf_t  =  \\delta U_x(X_t) \n",
    " & + \\sum_{\\ell=1}^{L} {\\mathcal J}^{\\ell}_x(X_t) g^{\\ell*}(X_t)  \\left[V^\\ell(X_t)  - V(X_t)  \\right]  \\cr\n",
    "& +  \\sum_{\\ell=1}^{L}  {\\mathcal J}^{\\ell}(X_t) g^{\\ell*}(X_t)   V^\\ell_x(X_t)  \\cr & +  \\xi \\sum_{\\ell = 1}^L \n",
    "{\\mathcal J}^\\ell_x(X_t)  \\left[ 1 - g^{\\ell*}(X_t)   + g^{\\ell*}(X_t)  \\log g^{\\ell*} (X_t) \\right].  \n",
    "\\end{align*}$$"
   ]
  },
  {
   "cell_type": "markdown",
   "metadata": {},
   "source": [
    "There are two steps to do value decomposition:\n",
    "\n",
    "1. [Simulate](https://github.com/korito1416/two-capital-climate-change/blob/main/python/FeymannKacs_simulate.py) state variable processes and first variation processes.\n",
    "\n",
    "2. Calculated four terms of discounted social cash flow. \n"
   ]
  },
  {
   "cell_type": "markdown",
   "metadata": {},
   "source": [
    "## 4.1 Simulate First Variational Process and State Variables\n"
   ]
  },
  {
   "cell_type": "markdown",
   "metadata": {},
   "source": [
    "FeymannKacs_prepare.sh and FeymannKacs_simulate.sh are two main bash files."
   ]
  },
  {
   "cell_type": "markdown",
   "metadata": {},
   "source": [
    "[FeymannKacs_prepare.py](https://github.com/korito1416/two-capital-climate-change/blob/306b1c5ee51eb6ad24e6267fe0d2b82ad5286e98/python/FeymannKacs_prepare.py) loads solutions from solved HJB equations, computes related variables in state space, calculate derivatives via finite difference and interpolate them."
   ]
  },
  {
   "cell_type": "markdown",
   "metadata": {},
   "source": [
    "[FeymannKacs_simulate.py](https://github.com/korito1416/two-capital-climate-change/blob/306b1c5ee51eb6ad24e6267fe0d2b82ad5286e98/python/FeymannKacs_simulate.py#L193)\n",
    "simulates the first variational process, the distorted state variables and other terms needed in value decomposition. "
   ]
  },
  {
   "cell_type": "markdown",
   "metadata": {},
   "source": [
    "The first variational process and distorted state variable process are  \n",
    "$$M_t=\n",
    " \\begin{bmatrix} \n",
    " M_t^{ \\log \\tilde{ {K}}} \\cr  \n",
    " M_t^{\\tilde{Y}} \\cr  \n",
    " M_t^{\\log\\tilde{{R}}} \\cr  \n",
    " M_t^{\\log\\tilde{{N}}}  \n",
    "\\end{bmatrix},\\quad\n",
    "\\tilde{X}_t=\n",
    " \\begin{bmatrix} \n",
    " \\log \\tilde{ {K}}_t \\cr  \n",
    " \\tilde{Y}_t \\cr  \n",
    " \\log\\tilde{{R}}_t \\cr  \n",
    " \\log\\tilde{{N}}_t  \n",
    "\\end{bmatrix}$$\n",
    "For notation clarification, we using $\\log{K}$ instead of $\\hat{K}$ in this section."
   ]
  },
  {
   "cell_type": "markdown",
   "metadata": {},
   "source": [
    "To simulate the first variational process with respect to technology, we set the initial value of $M_t$ to be $[0,0,1,0]'$, and $\\tilde{X}_t$ to be $[log(\\frac{85}{0.115}), 1.1, log(11.2),1.1 \\gamma_1  + 0.5\\times 1.1^2\\gamma_2 ]'$. Initial values are set in code line [905](https://github.com/korito1416/two-capital-climate-change/blob/306b1c5ee51eb6ad24e6267fe0d2b82ad5286e98/python/FeymannKacs_simulate.py#L905).\n"
   ]
  },
  {
   "cell_type": "markdown",
   "metadata": {},
   "source": [
    "We use $M^{\\log \\tilde{ {K}}_t}$ as an example and others are the same. \n",
    "The implied evolution of the process $M^{\\log \\tilde{ {K}}_t}$ is given by\n",
    "$$dM_{t}^{\\log \\tilde{ {K}}_t} = \\left(M_t\\right)'\\frac{\\partial \\mu_{\\log \\tilde{ {K}}_t}}{\\partial \\tilde{x}}(\\tilde{X}_t) dt + \\left({M_t}\\right)'\\frac{\\partial \\sigma_{\\log \\tilde{ {K}}_t}}{\\partial \\tilde{x}}(\\tilde{X}_t) dW_t$$\n",
    ", where $\\tilde{X}_t$ are distorted state variables. "
   ]
  },
  {
   "cell_type": "markdown",
   "metadata": {},
   "source": [
    "Recall that the distorted Capital evoluation is \n",
    "$$d \\log \\tilde{ K}_t =   \\left( - \\mu_k    + \\frac {I_{t}^k}{\\tilde{K}_t}  -{\\frac { \\kappa} 2} \\left( {\\frac {I_{t} ^k} {\\tilde{K}_t}} \\right)^2  + h_{\\tilde{K}} + \\frac{\\sigma_k^2}{2} \\right) dt +  \\sigma_k  dW_t$$\n",
    "where $\\sigma_{\\log \\tilde{ {K}}_t} = \\sigma_k$ and $\\mu_{\\log \\tilde{ {K}}_t}$"
   ]
  },
  {
   "cell_type": "markdown",
   "metadata": {},
   "source": [
    "$$\\mu_{\\log \\tilde{ {K}}_t} = - \\mu_k    + \\frac {I_{t}^k}{\\tilde{K}_t}  -{\\frac { \\kappa} 2} \\left( {\\frac {I_{t} ^k} {\\tilde{K}_t}} \\right)^2  + h_{\\tilde{K}} + \\frac{\\sigma_k^2}{2}$$"
   ]
  },
  {
   "cell_type": "markdown",
   "metadata": {},
   "source": [
    "$$\\frac{\\partial \\mu_{\\log \\tilde{ {K}}_t}}{\\partial \\tilde{x}} =\n",
    " \\begin{bmatrix} \n",
    " \\frac{\\partial \\mu_{\\log \\tilde{ {K}}_t}}{\\partial \\log \\tilde{ {K}}_t}\\cr  \n",
    " \\frac{\\partial \\mu_{\\log \\tilde{ {K}}_t}}{\\partial \\tilde{Y}_t } \\cr  \n",
    "\\frac{\\partial \\mu_{\\log \\tilde{ {K}}_t}}{\\partial \\log\\tilde{{R}}_t} \\cr  \n",
    "\\frac{\\partial \\mu_{\\log \\tilde{ {K}}_t}}{\\partial \\log\\tilde{{N}}_t} \n",
    "\\end{bmatrix}, \\quad\n",
    "\\frac{\\partial \\sigma_{\\log \\tilde{ {K}}_t}}{\\partial \\tilde{x}} = 0$$\n",
    "Line [303](https://github.com/korito1416/two-capital-climate-change/blob/306b1c5ee51eb6ad24e6267fe0d2b82ad5286e98/python/FeymannKacs_prepare.py#L303) shows how we calculate those derivatives by finite differnece.  \n",
    "\n",
    "Line [397](https://github.com/korito1416/two-capital-climate-change/blob/306b1c5ee51eb6ad24e6267fe0d2b82ad5286e98/python/FeymannKacs_simulate.py#L397) interpolates the vectors from finite difference to get the functions. \n",
    "\n",
    "Then we start the for [loop](https://github.com/korito1416/two-capital-climate-change/blob/306b1c5ee51eb6ad24e6267fe0d2b82ad5286e98/python/FeymannKacs_simulate.py#L727) from time 0 to recursively get four discounted term. "
   ]
  },
  {
   "cell_type": "markdown",
   "metadata": {},
   "source": [
    "## 4.2 Calculate four value decomposition terms"
   ]
  },
  {
   "cell_type": "markdown",
   "metadata": {},
   "source": [
    "Besides above variables, the derivatives we need  in value decomposition are\n",
    "$$\\frac{\\partial U}{\\partial x} ,  \\frac{\\partial {\\mathcal J}^{\\ell}}{\\partial x}   ,  \\frac{\\partial {  V^\\ell} }{\\partial x}$$ \n",
    " "
   ]
  },
  {
   "cell_type": "markdown",
   "metadata": {},
   "source": [
    "We use finite difference and interpolation same as above. Line [313](https://github.com/korito1416/two-capital-climate-change/blob/306b1c5ee51eb6ad24e6267fe0d2b82ad5286e98/python/FeymannKacs_simulate.py#L313) shows how we code it. Now we have every element in value decomposition."
   ]
  },
  {
   "cell_type": "markdown",
   "metadata": {},
   "source": [
    "We also consider four different configurations of uncertainty aversion as a way to assess the different economic forces in play:\n",
    "\n",
    "-   pre-jump neutrality - post-jump neutrality;\n",
    "-   pre-jump neutrality - post-jump aversion;\n",
    "-   pre-jump aversion - post-jump neutrality;\n",
    "-   pre-jump aversion - post-jump aversion.\n",
    "\n",
    "[FeymannKacs_simulate_NewPlug.sh](https://github.com/korito1416/two-capital-climate-change/blob/306b1c5ee51eb6ad24e6267fe0d2b82ad5286e98/conduction/FeymannKacs_simulate_NewPlug.sh#L23) controls different $\\xi$ for different channels. "
   ]
  }
 ],
 "metadata": {
  "kernelspec": {
   "display_name": "Python 3",
   "language": "python",
   "name": "python3"
  },
  "language_info": {
   "codemirror_mode": {
    "name": "ipython",
    "version": 3
   },
   "file_extension": ".py",
   "mimetype": "text/x-python",
   "name": "python",
   "nbconvert_exporter": "python",
   "pygments_lexer": "ipython3",
   "version": "3.12.4"
  }
 },
 "nbformat": 4,
 "nbformat_minor": 2
}
