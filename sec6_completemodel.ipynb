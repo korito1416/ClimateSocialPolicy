{
 "cells": [
  {
   "cell_type": "markdown",
   "metadata": {},
   "source": [
    "# 1 Complete Model and HJB "
   ]
  },
  {
   "cell_type": "markdown",
   "metadata": {},
   "source": [
    "\n",
    "We start to quasi-analytically simplify the general HJB equation for $\\rho \\neq 1$  in appendix C.3.  \n",
    "\\begin{align*}\n",
    "    0 &= \\frac  {\\delta}{1 - \\rho}  \\left[ \\left(\\frac {C_t}{\\exp(V_t)} \\right)^{1-\\rho}  - 1 \\right] + \\frac {d V_t } {dt}  \\\\\n",
    "   &=\\frac  {\\delta}{1 - \\rho}  \\left[ \\left(\\frac {  C_t / n}{\\exp(\\hat{V_t})/ n} \\right)^{1-\\rho}  - 1 \\right] + \\frac {d \\hat{V}_t } {dt} -  \\frac{d n}{d t} \\\\\n",
    "    &=\\frac  {\\delta}{1 - \\rho}  \\left[ \\left(\\frac {  C_t  }{\\exp(\\hat{V_t}) } \\right)^{1-\\rho}  - 1 \\right] + \\frac {d \\hat{V}_t } {dt} -  \\frac{d n}{d t}\n",
    "\\end{align*} \n",
    "\n",
    "\n",
    "For our analysis here, rather than a constant value of $\\xi$ for all uncertainty channels, we use a set of values $\\{\\xi^k, \\xi^c, \\xi^r, \\xi^d, \\xi^g\\}$, one for each uncertainty channel so that we can carry out our uncertainty decomposition.\n",
    "\n",
    "We define realizations of controls and states as following:\n",
    "\n",
    "**Controls $\\Phi$**\n",
    "\n",
    "- $i^k$ is a potential value for $I_t^k$\n",
    "- $i^r$ is a potential value for $I_t^r$\n",
    "- $e$ is a potential value for $\\mathcal{E}_t$\n",
    "\n",
    "**Distortion $\\Gamma$**\n",
    "- $h^k$ is the distortion to capital accumulation.\n",
    "- $h^y$ is the distortion to temperature anomaly accumulation.\n",
    "- $h^r$ is the distortion to R\\&D accumulation.\n",
    "- $g$ is the misspecification to technology jump.\n",
    "- $f$ is the misspecification to damage jump.\n",
    "\n",
    "\n",
    "**State $\\Theta $** \n",
    "\n",
    "- $k$ is a realization of $K_t$.\n",
    "- $y$ is a realization of $Y_t$.\n",
    "- $r$ is a realization of $R_t$.\n",
    "- $n$ is a realization of $N_t$.\n",
    " \n"
   ]
  },
  {
   "cell_type": "markdown",
   "metadata": {},
   "source": [
    "## 1.1 HJB equations"
   ]
  },
  {
   "cell_type": "markdown",
   "metadata": {},
   "source": [
    "### 1.1.1 Post-tech-post-damage HJB\n",
    "After technology jump occurs, temperature and damage remains constant.  Then the optimal choice of emission is $\\{\\mathcal E_t\\} >\\beta \\alpha K_t $.  In this case, the state space, control space and distortion space become\n",
    "\\begin{align}\n",
    "    \\Theta &= \\{ K,\\bar{N}\\}\\\\\n",
    "    \\Phi &= \\{  i^k \\}\\\\\n",
    "    \\Gamma &= \\{h^k\\}\n",
    "\\end{align}\n",
    "We have HJB for post technology and post damage jump as follows\n",
    "\n",
    "\\begin{align}\n",
    "0= & \\max_{i^k}\\min_{{h^k}} \\left(\\frac{\\delta}{1-\\rho}\\right)\\left[\\left(\\frac{\\alpha k -i^k}{\\exp (\\tilde{v}(\\tilde{x}(\\tilde{z}), \\tilde{z}))} \\right)^{1-\\rho}-1\\right] \\\\\n",
    "& +\\frac{d \\tilde{v}(\\tilde{x}(\\tilde{z}), \\tilde{z})}{d \\log k}\\left[\\mu_k+\\frac{i^k}{k}-\\frac{\\kappa}{2} \\left(\\frac{i^k}{k}\\right)^2-\\frac{\\left|\\sigma_k\\right|^2}{2}+\\sigma_k {h^k}\\right]+\\frac{d^2 \\tilde{v}(\\tilde{x}(\\tilde{z}), \\tilde{z})}{d \\log k^2} \\frac{\\left|\\sigma_k\\right|^2}{2} \\\\\n",
    "& +\\xi^k \\frac{\\left|{h^k}\\right|^2}{2}\n",
    "\\end{align}\n",
    "\n",
    "where $\\tilde{z} \\in \\{(1,1), (1,2), \\ldots, (1,L_n)\\}$ \n",
    "\n",
    "\n",
    "### 1.1.2 Post Technology and Pre Damage HJB\n",
    "In this case, the state space, control space and distortion space become\n",
    "\\begin{align}\n",
    "    \\Theta &= \\{ K,\\bar{N}\\}\\\\\n",
    "    \\Phi &= \\{  i^k \\}\\\\\n",
    "    \\Gamma &= \\{h^k\\}\n",
    "\\end{align}\n",
    "We have HJB for post technology and post damage jump as follows\n",
    "\n",
    "\\begin{aligned}\n",
    "0= & \\max_{i^k}\\min_{{h^k}} \\left(\\frac{\\delta}{1-\\rho}\\right)\\left[\\left(\\frac{\\alpha k -i^k}{\\exp (\\tilde{v}(\\tilde{x}(\\tilde{z}), \\tilde{z}))} \\right)^{1-\\rho}-1\\right] \\\\\n",
    "& +\\frac{d \\tilde{v}(\\tilde{x}(\\tilde{z}), \\tilde{z})}{d \\log k}\\left[\\mu_k+\\frac{i^k}{k}-\\frac{\\kappa}{2} \\left(\\frac{i^k}{k}\\right)^2-\\frac{\\left|\\sigma_k\\right|^2}{2}+\\sigma_k {h^k}\\right]+\\frac{d^2 \\tilde{v}(\\tilde{x}(\\tilde{z}), \\tilde{z})}{d \\log k^2} \\frac{\\left|\\sigma_k\\right|^2}{2} \\\\\n",
    "& +\\xi^k \\frac{\\left|{h^k}\\right|^2}{2}\n",
    "\\end{aligned}\n",
    "\n",
    "where $\\tilde{z} \\in \\{(1,0)\\}$ \n",
    "\n",
    "\n",
    " \n",
    "### 1.1.3 Pre Technology and Post Damage HJB\n",
    "In this case, the state space, control space and distortion space become\n",
    "\\begin{align}\n",
    "    \\Theta &= \\{ K, Y,R,N \\}\\\\\n",
    "    \\Phi &= \\{  i^k, i^r, e \\}\\\\\n",
    "    \\Gamma &= \\{{h^k}, {h^y}, {h^r}, g\\}\n",
    "\\end{align}\n",
    "After plugging this simplification into our HJB equation and removing common terms,\n",
    "we are left with the following simplified HJB to solve:\n",
    "\n",
    "\\begin{align}\n",
    "& 0=\\max_{i^k, i^r, e} \\min_{{h^k}, {h^y}, {h^r}, g} \\left(\\frac{\\delta}{1-\\rho}\\right)\\left[\\left(\\frac{\\alpha k -i^k-i^r-\\alpha k \\phi_0(z)\\left[1-\\frac{e}{\\beta_t \\alpha k }\\right]^{\\phi_1}}{\\exp (\\tilde{v})} \\right)^{1-\\rho}-1\\right] \\\\\n",
    "& +\\frac{\\partial \\tilde{v}}{\\partial \\log k}\\left[\\mu_k+\\frac{i^k}{k}-\\frac{\\kappa}{2} \\left(\\frac{i^k}{k}\\right)^2-\\frac{\\left|\\sigma_k\\right|^2}{2}+\\sigma_k {h^k}\\right]+\\frac{\\partial^2 \\tilde{v}(\\tilde{x}(\\tilde{z}), \\tilde{z})}{\\partial \\log k^2} \\frac{\\left|\\sigma_k\\right|^2}{2} \\\\\n",
    "& +\\frac{\\partial \\tilde{v}}{\\partial y}\\left(\\frac{1}{L_y} \\sum_{\\ell=1}^{L_y} q(\\ell \\mid x,z) \\theta(\\ell)+\\varsigma {h^y}\\right) e+\\frac{\\partial^2 \\tilde{v}}{\\partial y^2} \\frac{|\\varsigma|^2}{2} e^2 \\\\\n",
    "& -\\left(\\left[\\lambda_1+\\lambda_2 y+\\lambda_3(y-\\bar{y})\\right]\\left(\\frac{1}{L_y} \\sum_\\ell^{L_y} q(\\ell \\mid x,z) \\theta(\\ell)+\\varsigma {h^y}\\right) e+\\left(\\lambda_2+\\lambda_3\\right) \\frac{|\\varsigma|^2}{2} e^2\\right) \\\\\n",
    "& +\\frac{\\partial \\tilde{v}}{\\partial \\log r}\\left(-\\zeta+\\psi_0\\left(i^r\\right)^{\\psi_1} \\exp \\left(-\\psi_1 \\log r\\right)-\\frac{\\left|\\sigma_r\\right|^2}{2}+\\sigma_r {h^r}\\right)+\\frac{\\partial^2 \\tilde{v}}{\\partial \\log r^2}\\frac{\\left|\\sigma_r\\right|^2}{2} \\\\\n",
    "& +\\xi^g \\mathcal{J}_g(r)(1-g(\\tilde{z} \\mid x, z)+g(\\tilde{z} \\mid x, z) \\log g(\\tilde{z} \\mid x, z))+\\mathcal{J}_g(r) g(\\tilde{z} \\mid x, z)\\left(\\tilde{v}(\\tilde{x}(\\hat{z}), \\hat{z})-\\tilde{v}\\right) \\\\\n",
    "& +\\xi^k \\frac{\\left|{h^k}\\right|^2}{2}+\\xi^c \\frac{\\left|{h^y}\\right|^2}{2}+\\xi^r \\frac{\\left|{h^r}\\right|^2}{2}+\\chi \\frac{1}{L_y} \\sum_\\ell^{L_y}  q(\\ell \\mid x,z) \\log  q(\\ell \\mid x,z) \\\\\n",
    "&\n",
    "\\end{align}\n",
    "where the first component for $\\hat{z}$ is 1.\n",
    "\n",
    "### 1.1.4 Pre-tech-pre-damage HJB\n",
    "In this case, the state space, control space and distortion space become\n",
    "\\begin{align}\n",
    "    \\Theta &= \\{ K, Y,R,N \\}\\\\\n",
    "    \\Phi &= \\{  i^k, i^r, e \\}\\\\\n",
    "    \\Gamma &= \\{{h^k}, {h^y}, {h^r}, g, f\\}\n",
    "\\end{align}\n",
    "After plugging this simplification into our HJB equation and removing common terms,\n",
    "\\begin{align}\n",
    "0 & = \\max_{i^k, i^r, e} \\min_{{h^k}, {h^y}, {h^r}, g, f}\\left(\\frac{\\delta}{1-\\rho}\\right)\\left[\\left(\\frac{\\alpha k-i^k-i^r-\\alpha k \\phi_0(z)\\left[1-\\frac{e}{\\beta_t \\alpha k}\\right]^{\\phi_1}}{\\exp (v)} \\right)^{1-\\rho}-1\\right] \\\\\n",
    "& +\\frac{\\partial v}{\\partial \\log k}\\left[\\mu_k+\\frac{i^k}{k}-\\frac{\\kappa}{2} \\left(\\frac{i^k}{k}\\right)^2-\\frac{\\left|\\sigma_k\\right|^2}{2}+\\sigma_k {h^k}\\right]+\\frac{\\partial^2 v}{\\partial \\log k^2} \\frac{\\left|\\sigma_k\\right|^2}{2} \\\\\n",
    "& +\\frac{\\partial v}{\\partial y}\\left(\\frac{1}{L_y} \\sum_{\\ell=1}^{L_y} q(\\ell \\mid x,z) \\theta(\\ell)+\\varsigma {h^y}\\right) e+\\frac{\\partial^2 v}{\\partial y^2} \\frac{|\\varsigma|^2}{2} e^2 \\\\\n",
    "& -\\left(\\left[\\lambda_1+\\lambda_2 y\\right]\\left(\\frac{1}{L_y} \\sum_{\\ell=1}^{L_y} q(\\ell \\mid x,z) \\theta(\\ell)+\\varsigma {h^y}\\right) e+\\lambda_2 \\frac{|\\varsigma|^2}{2} e^2\\right) \\\\\n",
    "& +\\frac{\\partial v}{\\partial \\log r}\\left(-\\zeta+\\psi_0\\left(i^r\\right)^{\\psi_1} \\exp \\left(-\\psi_1 \\log r\\right)-\\frac{\\left|\\sigma_r\\right|^2}{2}+\\sigma_r {h^r}\\right)+\\frac{\\partial^2 v}{\\partial \\log r^2} \\frac{\\left|\\sigma_r\\right|^2}{2} \\\\\n",
    "& +\\xi^g \\mathcal{J}_g(r)(1-g(\\tilde{z} \\mid x, z)+g(\\tilde{z} \\mid x, z) \\log g(\\tilde{z} \\mid x, z))+\\mathcal{J}_g(r) g(\\tilde{z} \\mid x, z)\\left(\\tilde{v}(\\tilde{x}(\\tilde{z}), \\tilde{z})-v\\right) \\\\\n",
    "& +\\xi^d \\mathcal{J}_n(y) \\sum_{\\tilde{z} \\in \\mathcal{Z}} \\pi(\\tilde{z} \\mid x, z)(1-f(\\tilde{z} \\mid x, z)+f(\\tilde{z} \\mid x, z) \\log f(\\tilde{z} \\mid x, z)) \\\\\n",
    "& +\\mathcal{J}_n(y) \\sum_{\\tilde{z} \\in \\mathcal{Z}} \\pi(\\tilde{z} \\mid x, z) f(\\tilde{z} \\mid x, z)\\left(\\tilde{v}(\\tilde{x}(\\tilde{z}), \\tilde{z})-v\\right) \\\\\n",
    "& +\\xi^k \\frac{\\left|{h^k}\\right|^2}{2}+\\xi^c \\frac{\\left|{h^y}\\right|^2}{2}+\\xi^r \\frac{\\left|{h^r}\\right|^2}{2}+\\chi \\frac{1}{L_y} \\sum_{\\ell=1}^{L_y} q(\\ell \\mid x,z) \\log q(\\ell \\mid x,z)\n",
    "\\end{align}\n"
   ]
  },
  {
   "cell_type": "markdown",
   "metadata": {},
   "source": [
    "## 1.2 Computation method\n",
    "\n",
    "In this section, we explain how did we solve HJB equation. "
   ]
  },
  {
   "cell_type": "markdown",
   "metadata": {},
   "source": [
    "### 1.2.1 Policy Iteration\n",
    "\n",
    "For simplicity, I denote the control set and distortion set: \n",
    "\n",
    "\\begin{align}\n",
    "   \\Phi^n &= \\{ i_k^{n}, i_j^{n}, \\mathcal{E}^{n} \\} \\\\\n",
    "   \\Gamma^n &=\\{ h_k^{n}, h_y^{n}, h_j^{n}, g^{n}, f_\\ell^{n} \\} \n",
    "\\end{align}"
   ]
  },
  {
   "cell_type": "markdown",
   "metadata": {},
   "source": [
    "![Algorithm](policyiterationAlgo.jpg)\n"
   ]
  },
  {
   "cell_type": "markdown",
   "metadata": {},
   "source": [
    "Below functions implement above algorithm in solving four HJB equations.\n",
    "\n",
    "- [hjb_post_tech](\n",
    "https://github.com/korito1416/two-capital-climate-change/blob/641046304faed6e6c5bace7bc0f9af45c8196fd9/python/src/PostSolver_new.py#L150C5-L150C18)\n",
    " function in two-capital-climate-change/python/src/PostSolver_new.py\n",
    "\n",
    " - [hjb_post_tech](https://github.com/korito1416/two-capital-climate-change/blob/641046304faed6e6c5bace7bc0f9af45c8196fd9/python/src/PostSolver_new_rho1.py#L195C5-L195C18)\n",
    " function in two-capital-climate-change/python/src/PostSolver_new_rho1.py\n",
    "\n",
    "\n",
    "- [hjb_pre_tech](https://github.com/korito1416/two-capital-climate-change/blob/641046304faed6e6c5bace7bc0f9af45c8196fd9/python/src/PreSolver_CRS2_new.py#L329)\n",
    " function in two-capital-climate-change/python/src/PreSolver_CRS2_new.py\n",
    "\n",
    "\n",
    "- [hjb_pre_tech](https://github.com/korito1416/two-capital-climate-change/blob/641046304faed6e6c5bace7bc0f9af45c8196fd9/python/src/PreSolver_CRS2_new_rho1.py#L325)\n",
    " function in two-capital-climate-change/python/src/PreSolver_CRS2_new_rho1.py\n",
    " "
   ]
  },
  {
   "cell_type": "markdown",
   "metadata": {},
   "source": [
    "''hjb_post_tech'' function could solve post-tech-post-damage HJB and post-tech-pre-damage HJB because two equations have the same state variables and controls. Similarly, ''hjb_pre_tech'' function could solve pre-tech-post-damage HJB and pre-tech-pre-damage HJB."
   ]
  },
  {
   "cell_type": "markdown",
   "metadata": {},
   "source": []
  },
  {
   "cell_type": "markdown",
   "metadata": {},
   "source": [
    "### 1.2.2 Updating Rules $\\Phi^{n+1} = \\Phi(V^n,\\Phi^{n} ,\\Gamma^{n})$ \n",
    "\n",
    "First order condition of HJB w.r.t control $\\phi_t$ are\n",
    "\\begin{align}\n",
    "    0 =  \\delta    \\left(\\frac {C_t}{\\exp(V_t)} \\right)^{ -\\rho}   \\frac{\\partial C_t}{\\partial \\phi_t}  + \\frac {\\partial} {\\partial \\phi_t}\\frac {d V_t } {dt}  \n",
    "\\end{align} \n",
    "We use Cobweb algorithm to update controls: \n",
    "\\begin{align}\n",
    "    \\frac {\\partial} {\\partial \\phi_{t+1}'}\\frac {d V_t } {dt}  = - \\delta    \\left(\\frac {C_t}{\\exp(V_t)} \\right)^{ -\\rho}   \\frac{\\partial C_t}{\\partial \\phi_t}   \n",
    "\\end{align} \n",
    "\n",
    "The updated action $  \\phi_{t+1}  $ is computed using a relaxation parameter $ \\mathcal \\iota$:\n",
    "$$\n",
    " \\phi_{t+1} = \\mathcal \\iota \\phi_{t}+ (1 - \\mathcal \\iota)  \\phi_{t+1}'\n",
    "$$\n",
    "For example, we update for $i_k$ for pre damage pre technology HJB,  using the first-order condition:\n",
    "\n",
    "$$\n",
    "\\delta \\left( \\frac{\\alpha k - i_k - i_j - \\alpha k \\phi_0(z) \\left[1 - \\frac{\\mathcal{E}}{\\beta_t \\alpha k}\\right]^{\\phi_1}}{\\exp(v)} \\right)^{-\\rho} \\frac{1}{\\exp(v)} = \\frac{\\partial v}{\\partial \\log k} \\left(1 - \\kappa i_k\\right)\n",
    "$$\n",
    "\n",
    "Since this equation is highly non-linear and does not admit an analytical solution, we use the Cobweb algorithm to iteratively update the actions. For each iteration $n$, the update is:\n",
    "\n",
    "$$\n",
    "\\mu^n = \\frac{\\partial v^n}{\\partial \\log k} \\left(1 - \\kappa {i_k^{n+1}}\\right)\n",
    "$$\n",
    "Where we define:\n",
    "\n",
    "$$\n",
    "\\mu^n = \\delta \\left( \\frac{\\alpha k - i_k^n - i_j^n - \\alpha k \\phi_0 \\left[1 - \\frac{\\mathcal{E}^n}{\\beta_t \\alpha k}\\right]^{\\phi_1}}{\\exp(v^n)} \\right)^{-\\rho} \\frac{1}{\\exp(v^n)}\n",
    "$$\n",
    "The updated action $ i_k^{n+1} $ is computed using a relaxation parameter $ \\mathcal\\chi $:\n",
    "\n",
    "$$\n",
    "i_k^{n+1} = \\chi i_k^n + (1 - \\chi) i_k^{n+1'}\n",
    "$$\n",
    "\n",
    "### 1.2.3 Updating Rules $\\Gamma^{n+1} = \\Gamma(V^n,\\Phi^{n+1},\\Gamma^{n} )$\n",
    "\n",
    "First order condition of HJB w.r.t distortion $\\gamma_t$ are\n",
    "\\begin{align}\n",
    "    0 =    \\frac {\\partial} {\\partial \\gamma_t}\\frac {d V_t } {dt}  \n",
    "\\end{align} \n",
    "Every distortion has analytical solution. For example,  we solve for $ h_k $, and the same logic applies to $ h_y, h_j, g, f_\\ell $. The first-order condition for $ h_k $ is:\n",
    "\n",
    "$$\n",
    "\\frac{\\partial v}{\\partial \\log k} \\sigma_k = - \\xi_k h_k\n",
    "$$\n",
    "Given the value function \\( v^n \\), we update the distortion $ h_k^{n+1} $ as follows:\n",
    "\n",
    "$$\n",
    "h_k^{n+1} = - \\frac{1}{\\xi_k} \\frac{\\partial v^n}{\\partial \\log k} \\sigma_k\n",
    "$$\n",
    " "
   ]
  },
  {
   "cell_type": "markdown",
   "metadata": {},
   "source": [
    "### 1.2.4 False Transcient Method\n",
    "To mitigate the inherent instability of the non-linear HJB, we add a false transcient (time) dimension and solve it until convergence. And the new HJB equation is as \n",
    "\\begin{align}  \n",
    "0 \\hspace{0.2cm} = \\hspace{0.2cm} & \\delta U(x) - \\delta V(x,t) + \n",
    "\\mu(x) \\frac{\\partial V}{\\partial x} (x,t) \\\\\n",
    "& + \\frac{1}{2} \\, \\mathrm{trace}\\left[\\sigma(x)^\\top \\frac{\\partial^2 V}{\\partial x \\partial x^\\top}(x,t) \\sigma(x) \\right] \\\\\n",
    "& + \\sum_{\\ell = 1}^L \\mathcal{J}^\\ell(x) \\left[ V^\\ell(x,t) - V(x,t) \\right]\n",
    "\\end{align}\n",
    "\n",
    "\n",
    " "
   ]
  },
  {
   "cell_type": "markdown",
   "metadata": {},
   "source": [
    "### 1.2.5 Finite Difference Schemes\n",
    "\n",
    "- Central Difference (Interior Points):\n",
    "\\begin{align*}\n",
    "        \\text{First-Order:} \\quad \\frac{f_{i+1} - f_{i-1}}{2 \\Delta x} \\\\\n",
    "        \\text{Second-Order:} \\quad \\frac{f_{i+1} + f_{i-1} - 2f_i}{\\Delta x^2}\n",
    "    \\end{align*}\n",
    "    \n",
    "- Forward Difference (First Boundary Point):\n",
    "\\begin{align*}\n",
    "        \\text{First-Order:} \\quad \\frac{f_{1} - f_{0}}{\\Delta x} \\\\\n",
    "        \\text{Second-Order:} \\quad \\frac{f_{2} + f_{0} - 2f_{1}}{\\Delta x^2}\n",
    "    \\end{align*}\n",
    "    \n",
    "- Backward Difference (Last Boundary Point):\n",
    "\\begin{align*}\n",
    "    \\text{First-Order:} \\quad \\frac{f_{N-1} - f_{N-2}}{\\Delta x} \\\\\n",
    "        \\text{Second-Order:} \\quad \\frac{f_{N-1} + f_{N-3} - 2f_{N-2}}{\\Delta x^2}\n",
    "\\end{align*}\n",
    "\n"
   ]
  },
  {
   "cell_type": "markdown",
   "metadata": {},
   "source": [
    "Below two functions are two finite difference functions we used in solving HJB equations.\n",
    "\n",
    "- [finiteDiff_3D](\n",
    "https://github.com/korito1416/two-capital-climate-change/blob/641046304faed6e6c5bace7bc0f9af45c8196fd9/python/src/Utility.py#L211)\n",
    " function in two-capital-climate-change/python/src/Utility.py \n",
    "\n",
    "- [finiteDiff](https://github.com/korito1416/two-capital-climate-change/blob/641046304faed6e6c5bace7bc0f9af45c8196fd9/python/src/supportfunctions.py#L12) in two-capital-climate-change/python/src/supportfunctions.py "
   ]
  },
  {
   "cell_type": "markdown",
   "metadata": {},
   "source": [
    "## 1.3 Procedures to solve four HJB equations"
   ]
  },
  {
   "cell_type": "markdown",
   "metadata": {},
   "source": [
    "To solve HJB equations, we first run below code in [two-capital-climate-change/master\n",
    "/master_zero_shock.sh](https://github.com/korito1416/two-capital-climate-change/blob/main/master/master_zero_shock.sh).\n",
    "Make sure you give right command-line arguments."
   ]
  },
  {
   "cell_type": "markdown",
   "metadata": {},
   "source": [
    "```bash\n",
    "bash ./conduction/Postdamage.sh  \n",
    "sleep 1200\n",
    "bash ./conduction/Postdamage_sub.sh \n",
    "sleep 1200\n",
    "bash ./conduction/Predamage.sh  "
   ]
  },
  {
   "cell_type": "markdown",
   "metadata": {},
   "source": []
  },
  {
   "cell_type": "markdown",
   "metadata": {},
   "source": []
  },
  {
   "cell_type": "markdown",
   "metadata": {},
   "source": []
  },
  {
   "cell_type": "markdown",
   "metadata": {},
   "source": []
  },
  {
   "cell_type": "markdown",
   "metadata": {},
   "source": []
  },
  {
   "cell_type": "markdown",
   "metadata": {},
   "source": []
  }
 ],
 "metadata": {
  "kernelspec": {
   "display_name": "base",
   "language": "python",
   "name": "python3"
  },
  "language_info": {
   "codemirror_mode": {
    "name": "ipython",
    "version": 3
   },
   "file_extension": ".py",
   "mimetype": "text/x-python",
   "name": "python",
   "nbconvert_exporter": "python",
   "pygments_lexer": "ipython3",
   "version": "3.12.4"
  },
  "orig_nbformat": 4
 },
 "nbformat": 4,
 "nbformat_minor": 2
}
